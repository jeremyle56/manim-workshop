{
 "cells": [
  {
   "cell_type": "markdown",
   "metadata": {},
   "source": [
    "# UNSW MathSoc Presents: Welcome to Manim!"
   ]
  },
  {
   "cell_type": "markdown",
   "metadata": {},
   "source": [
    "This is a temporary test environment in which you can play around with Manim without the need of installing it locally. Some basic knowledge of Python is helpful! Keep in mind that this is a *temporary* environment, though: your changes will not be saved and cannot be shared with others. To save your work, you will need to download the notebook file (\"File > Download as > Notebook (.ipynb)\"). Enjoy!\n",
    "\n",
    "> *Useful resources:* [Documentation](https://docs.manim.community), [Discord](https://discord.gg/mMRrZQW), [Reddit](https://www.reddit.com/r/manim/)\n",
    "\n",
    "The documentation will contain all the information you need to install Manim locally and explore further! \n",
    "\n",
    "All the code used during this workshop can be found [here](https://github.com/jeremyle56/manim-workshop)."
   ]
  },
  {
   "cell_type": "markdown",
   "metadata": {},
   "source": [
    "### A small note about Python and Jupyter Notebook"
   ]
  },
  {
   "cell_type": "markdown",
   "metadata": {},
   "source": [
    "You don't have to know Python to be able to code in Manim but it will help. If you come from any C like language like C you'll notice that Python doesn't use curly braces for code blocks but instead uses indents to determine which code blocks within which block. Additionally there is no need for semi-colons in Python.\n",
    "\n",
    "Jupyter Noteback provides a simple way to run small blocks of Python code and combine it with text which is perfect for this workshop! If you are building any larger scale project you would be using regular Python files."
   ]
  },
  {
   "cell_type": "markdown",
   "metadata": {},
   "source": [
    "## Setup"
   ]
  },
  {
   "cell_type": "markdown",
   "metadata": {},
   "source": [
    "To run any code block you can hit the *Run* button above or press `Shift + Enter`.\n",
    "\n",
    "We will now set up Manim by importing the library and setting a few config values. Feel free to adapt both of these settings to your liking."
   ]
  },
  {
   "cell_type": "code",
   "execution_count": null,
   "metadata": {},
   "outputs": [],
   "source": [
    "# TODO"
   ]
  },
  {
   "cell_type": "markdown",
   "metadata": {},
   "source": [
    "If you have executed the cell successfully, a messaging printing the installed version of the library should have appeared below it."
   ]
  },
  {
   "cell_type": "markdown",
   "metadata": {},
   "source": [
    "### Note on this setup"
   ]
  },
  {
   "cell_type": "markdown",
   "metadata": {},
   "source": [
    "Since this is a temporary test environment Manim is virtually installed we are sticking to this notebook. But if you decide to use Python files - to be able to create the video you will have to use the command line.\n",
    "\n",
    "If you can figure out how to install it then you are most likely equipped to figure out to run manim on your file."
   ]
  },
  {
   "cell_type": "markdown",
   "metadata": {},
   "source": [
    "## Let's Draw Some Shapes"
   ]
  },
  {
   "cell_type": "code",
   "execution_count": null,
   "metadata": {},
   "outputs": [],
   "source": [
    "# TODO"
   ]
  },
  {
   "cell_type": "code",
   "execution_count": null,
   "metadata": {},
   "outputs": [],
   "source": [
    "# TODO"
   ]
  },
  {
   "cell_type": "markdown",
   "metadata": {},
   "source": [
    "## Positioning Mobjects"
   ]
  },
  {
   "cell_type": "code",
   "execution_count": null,
   "metadata": {},
   "outputs": [],
   "source": [
    "%%manim -qm CircleAndSquare\n",
    "\n",
    "class CircleAndSquare(Scene):\n",
    "    def construct(self):\n",
    "        pink_circle = Circle()\n",
    "        pink_circle.set_fill(PINK, opacity = 0.5)\n",
    "\n",
    "        blue_square = Square()\n",
    "        blue_square.set_fill(BLUE, opacity= 0.5)\n",
    "\n",
    "        # Add positioning line\n",
    "        self.play(Create(pink_circle), Create(blue_square))\n",
    "        self.wait()"
   ]
  },
  {
   "cell_type": "markdown",
   "metadata": {},
   "source": [
    "## Animating"
   ]
  },
  {
   "cell_type": "code",
   "execution_count": null,
   "metadata": {},
   "outputs": [],
   "source": [
    "%%manim -qm CircleToSquare\n",
    "\n",
    "class AnimatedSquareToCircle(Scene):\n",
    "    def construct(self):\n",
    "        circle = Circle()  # create a circle\n",
    "        square = Square()  # create a square\n",
    "\n",
    "        self.play(Create(square))  # show the square on screen\n",
    "        # Add converting logic"
   ]
  },
  {
   "cell_type": "code",
   "execution_count": null,
   "metadata": {},
   "outputs": [],
   "source": [
    "%%manim -qm DifferentRotations\n",
    "\n",
    "class DifferentRotations(Scene):\n",
    "    def construct(self):\n",
    "        left_square = Square(color=BLUE, fill_opacity=0.7).shift(2 * LEFT)\n",
    "        right_square = Square(color=GREEN, fill_opacity=0.7).shift(2 * RIGHT)\n",
    "\n",
    "        # Apply different types of rotation to the two squares\n",
    "        self.wait()"
   ]
  },
  {
   "cell_type": "code",
   "execution_count": null,
   "metadata": {},
   "outputs": [],
   "source": [
    "%%manim -qm MovingCube\n",
    "\n",
    "class MovingCube(Scene):\n",
    "    def construct(self):\n",
    "        box = Rectangle(\n",
    "            stroke_color=GREEN_C,\n",
    "            stroke_opacity=0.7,\n",
    "            fill_color=RED_B,\n",
    "            fill_opacity=0.5,\n",
    "            height=1,\n",
    "            width=1,\n",
    "        )\n",
    "\n",
    "        self.add(box)\n",
    "        # Move the box around"
   ]
  },
  {
   "cell_type": "markdown",
   "metadata": {},
   "source": [
    "## Exercise 1 (Moving Mobjects Around)"
   ]
  },
  {
   "cell_type": "code",
   "execution_count": null,
   "metadata": {},
   "outputs": [],
   "source": [
    "%%manim -qm Triangle_Star\n",
    "\n",
    "class Triangle_Star(Scene):\n",
    "    def construct(self):"
   ]
  },
  {
   "cell_type": "markdown",
   "metadata": {},
   "source": [
    "## Typesetting Mathematics"
   ]
  },
  {
   "cell_type": "markdown",
   "metadata": {},
   "source": [
    "We can't learn a new programming technology without printing `Hello World`. "
   ]
  },
  {
   "cell_type": "code",
   "execution_count": null,
   "metadata": {},
   "outputs": [],
   "source": [
    "%%manim -qm Hello_World\n",
    "\n",
    "class Hello_World(Scene):\n",
    "    def construct(self):\n",
    "        sq = Square(\n",
    "            side_length=2,\n",
    "            color=BLUE, \n",
    "            fill_color=LIGHT_GRAY, \n",
    "            fill_opacity=0.5, \n",
    "            sheen_factor=0.1, \n",
    "            stroke_width= 30\n",
    "            ).to_edge(LEFT, buff= 0.5)\n",
    "        \n",
    "        Hello_World = Text(\"Hello World\")\n",
    "        Tri = Triangle().to_edge(RIGHT, buff= 0.5).scale(0.6)\n",
    "\n",
    "        self.play(Create(Tri), Write(sq), run_time = 2)\n",
    "        self.play(Write(Hello_World), run_time = 4)\n",
    "\n",
    "        self.wait()"
   ]
  },
  {
   "cell_type": "markdown",
   "metadata": {},
   "source": [
    "### Manim Supports $\\LaTeX$\n",
    "\n",
    "You will need to make sure you have $LaTeX$ installed to be able to use it (for local developing, we not be a problem for this workshop)."
   ]
  },
  {
   "cell_type": "code",
   "execution_count": null,
   "metadata": {},
   "outputs": [],
   "source": [
    "%%manim -qm Formula\n",
    "\n",
    "class Formula(Scene):\n",
    "    def construct(self):\n",
    "        formula = MathTex(r\"\\mathbf{w}_{k+1} = \\mathbf{v}_{k+1} - \\sum_{j=1}^k \\mathrm{proj}_{\\mathbf{w}_j}(\\mathbf{v}_{k+1})\")\n",
    "        self.play(Write(formula), run_time = 3)\n",
    "        self.wait(2)"
   ]
  },
  {
   "cell_type": "markdown",
   "metadata": {},
   "source": [
    "### Animating Series of Equations"
   ]
  },
  {
   "cell_type": "code",
   "execution_count": null,
   "metadata": {},
   "outputs": [],
   "source": [
    "%%manim -qm TransformEquation\n",
    "\n",
    "class TransformEquation(Scene):\n",
    "    def construct(self):\n",
    "        eq1 = MathTex(\"21 {{ a^2 }} + {{ b^2 }} = {{ c^2 }}\")\n",
    "        eq2 = MathTex(\"21 {{ a^2 }} = {{ c^2 }} - {{ b^2 }}\")\n",
    "        eq3 = MathTex(r\"a^2 = \\frac{c^2 - b^2}{21}\")\n",
    "        self.add(eq1)\n",
    "        self.wait()\n",
    "        self.play(TransformMatchingTex(eq1, eq2))\n",
    "        self.wait()\n",
    "        self.play(TransformMatchingShapes(eq2, eq3))\n",
    "        self.wait()\n",
    "        self.play(Create(SurroundingRectangle(eq3), buff=0.1))\n",
    "        self.wait()"
   ]
  },
  {
   "cell_type": "markdown",
   "metadata": {},
   "source": [
    "## Exercise 2 (Derivation of Quadratic Formula)"
   ]
  },
  {
   "cell_type": "code",
   "execution_count": null,
   "metadata": {},
   "outputs": [],
   "source": [
    "class Quadratic(Scene):\n",
    "    def construct(self):"
   ]
  },
  {
   "cell_type": "markdown",
   "metadata": {},
   "source": [
    "## Graphing"
   ]
  },
  {
   "cell_type": "markdown",
   "metadata": {},
   "source": [
    "### Creating a Number Plane"
   ]
  },
  {
   "cell_type": "code",
   "execution_count": null,
   "metadata": {},
   "outputs": [],
   "source": [
    "%%manim -qm Fundamentals\n",
    "\n",
    "class Fundamentals(Scene):\n",
    "    def construct(self):\n",
    "        xy_plane = Axes(x_range= (-3,3), y_range= (-3,3)).add_coordinates()\n",
    "        self.add(xy_plane)"
   ]
  },
  {
   "cell_type": "markdown",
   "metadata": {},
   "source": [
    "### Sketching Curves"
   ]
  },
  {
   "cell_type": "code",
   "execution_count": null,
   "metadata": {},
   "outputs": [],
   "source": [
    "%%manim -qm Fundamentals \n",
    "\n",
    "class Fundamentals(Scene):\n",
    "    def construct(self):\n",
    "        xy_plane = Axes(x_range= (-3,3), y_range= (-3,3))\n",
    "        curve = xy_plane.plot(lambda x: (x-2)*x*(x+2) / 2, color= YELLOW)\n",
    "        self.play(Write(xy_plane), Write(curve), run_time=3)        \n",
    "        self.wait(2)"
   ]
  },
  {
   "cell_type": "markdown",
   "metadata": {},
   "source": [
    "### Area Under The Curve"
   ]
  },
  {
   "cell_type": "code",
   "execution_count": null,
   "metadata": {},
   "outputs": [],
   "source": [
    "%%manim -qm Fundamentals\n",
    "\n",
    "class Fundamentals(Scene):\n",
    "    def construct(self):\n",
    "        xy_plane = Axes(x_range= (-3,3), y_range= (-3,3))\n",
    "        curve = xy_plane.plot(lambda x: (x-2)*x*(x+2) / 2, color= YELLOW)\n",
    "        area = xy_plane.get_area(curve, x_range=(-2,0), color= [YELLOW,GREEN])\n",
    "        self.play(Write(xy_plane), Write(curve), Write(area), run_time=3)\n",
    "        self.wait(2)"
   ]
  },
  {
   "cell_type": "markdown",
   "metadata": {},
   "source": [
    "### Riemann Sums (Rectangles)"
   ]
  },
  {
   "cell_type": "code",
   "execution_count": null,
   "metadata": {},
   "outputs": [],
   "source": [
    "%%manim -qm Riemann\n",
    "\n",
    "class Riemann(Scene):\n",
    "    def construct(self):\n",
    "        xy_plane = Axes(x_range= (-3,3), y_range= (-3,3))\n",
    "        curve = xy_plane.plot(lambda x: (x-2)*x*(x+2) / 2, color= YELLOW) \n",
    "        area = xy_plane.get_riemann_rectangles(graph= curve, x_range=(-2,2), dx= 0.2, color= [BLUE_D, PINK], fill_opacity= 1, show_signed_area= False)\n",
    "        self.play(Write(xy_plane), Write(curve), Write(area), run_time=3)\n",
    "        self.wait(2)"
   ]
  },
  {
   "cell_type": "markdown",
   "metadata": {},
   "source": [
    "## Exercise 3 (Summary of Graphs)"
   ]
  },
  {
   "cell_type": "code",
   "execution_count": null,
   "metadata": {},
   "outputs": [],
   "source": [
    "%%manim -qm Graphing\n",
    "\n",
    "class Graphing(Scene):\n",
    "    def construct(self):\n",
    "        "
   ]
  },
  {
   "cell_type": "markdown",
   "metadata": {},
   "source": [
    "## Exercise 4 (Graphing Challenge Exercise)"
   ]
  },
  {
   "cell_type": "code",
   "execution_count": null,
   "metadata": {},
   "outputs": [],
   "source": [
    "%%manim -qm Graphing_Challenge\n",
    "\n",
    "class Graphing_Challenge(Scene):\n",
    "    def construct(self):\n",
    "        "
   ]
  }
 ],
 "metadata": {
  "kernelspec": {
   "display_name": "Python 3",
   "language": "python",
   "name": "python3"
  },
  "language_info": {
   "codemirror_mode": {
    "name": "ipython",
    "version": 3
   },
   "file_extension": ".py",
   "mimetype": "text/x-python",
   "name": "python",
   "nbconvert_exporter": "python",
   "pygments_lexer": "ipython3",
   "version": "3.11.4"
  },
  "orig_nbformat": 4
 },
 "nbformat": 4,
 "nbformat_minor": 2
}
