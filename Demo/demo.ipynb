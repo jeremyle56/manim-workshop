{
 "cells": [
  {
   "cell_type": "markdown",
   "metadata": {},
   "source": [
    "# UNSW MathSoc Presents: Welcome to Manim!"
   ]
  },
  {
   "cell_type": "markdown",
   "metadata": {},
   "source": [
    "This is a temporary test environment in which you can play around with Manim without the need of installing it locally. Some basic knowledge of Python is helpful! Keep in mind that this is a *temporary* environment, though: your changes will not be saved and cannot be shared with others. To save your work, you will need to download the notebook file (\"File > Download as > Notebook (.ipynb)\"). Enjoy!\n",
    "\n",
    "> *Useful resources:* [Documentation](https://docs.manim.community), [Discord](https://discord.gg/mMRrZQW), [Reddit](https://www.reddit.com/r/manim/)\n",
    "\n",
    "The documentation will contain all the information you need to install Manim locally and explore further! \n",
    "\n",
    "All the code used during this workshop can be found [here](https://github.com/jeremyle56/manim-workshop)."
   ]
  },
  {
   "cell_type": "markdown",
   "metadata": {},
   "source": [
    "### A small note about Python and Jupyter Notebook"
   ]
  },
  {
   "cell_type": "markdown",
   "metadata": {},
   "source": [
    "You don't have to know Python to be able to code in Manim but it will help. If you come from any C like language like C you'll notice that Python doesn't use curly braces for code blocks but instead uses indents to determine which code blocks within which block. Additionally there is no need for semi-colons in Python.\n",
    "\n",
    "Jupyter Noteback provides a simple way to run small blocks of Python code and combine it with text which is perfect for this workshop! If you are building any larger scale project you would be using regular Python files."
   ]
  },
  {
   "cell_type": "markdown",
   "metadata": {},
   "source": [
    "## Setup"
   ]
  },
  {
   "cell_type": "markdown",
   "metadata": {},
   "source": [
    "To run any code block you can hit the *Run* button above or press `Shift + Enter`.\n",
    "\n",
    "We will now set up Manim by importing the library and setting a few config values. Feel free to adapt both of these settings to your liking."
   ]
  },
  {
   "cell_type": "code",
   "execution_count": 50,
   "metadata": {},
   "outputs": [],
   "source": [
    "from manim import *\n",
    "\n",
    "config.media_width = \"75%\"\n",
    "config.verbosity = \"WARNING\""
   ]
  },
  {
   "cell_type": "markdown",
   "metadata": {},
   "source": [
    "If you have executed the cell successfully, a messaging printing the installed version of the library should have appeared below it."
   ]
  },
  {
   "cell_type": "markdown",
   "metadata": {},
   "source": [
    "### Note on this setup"
   ]
  },
  {
   "cell_type": "markdown",
   "metadata": {},
   "source": [
    "Since this is a temporary test environment Manim is virtually installed we are sticking to this notebook. But if you decide to use Python files - to be able to create the video you will have to use the command line.\n",
    "\n",
    "If you can figure out how to install it then you are most likely equipped to figure out to run manim on your file."
   ]
  },
  {
   "cell_type": "markdown",
   "metadata": {},
   "source": [
    "## Let's Draw Some Shapes"
   ]
  },
  {
   "cell_type": "markdown",
   "metadata": {},
   "source": [
    "- These examples should be explained iteratively (line by line) and you should try experiment as to what happens if you exclude some lines.\n",
    "- Objects (such as shapes) in Manim are called Mobjects\n",
    "  - Mathematical Object: base class for objects that can be displayed on screen."
   ]
  },
  {
   "cell_type": "code",
   "execution_count": null,
   "metadata": {},
   "outputs": [],
   "source": [
    "%%manim -qm Circles\n",
    "\n",
    "class Circles(Scene):\n",
    "    def construct(self):\n",
    "        circle = Circle(radius=1.0)\n",
    "        \n",
    "        self.play(Create(circle))\n",
    "        self.wait()"
   ]
  },
  {
   "cell_type": "code",
   "execution_count": null,
   "metadata": {},
   "outputs": [],
   "source": [
    "%%manim -qm CircleToSquare\n",
    "\n",
    "class CircleToSquare(Scene):\n",
    "    def construct(self):\n",
    "        blue_circle = Circle(color = BLUE, fill_opacity = 0.5)\n",
    "        green_square = Square(color = GREEN, fill_opacity = 0.8)\n",
    "        self.play(Create(blue_circle))\n",
    "        self.wait()\n",
    "        \n",
    "        self.play(Transform(blue_circle, green_square))\n",
    "        self.wait()"
   ]
  },
  {
   "cell_type": "markdown",
   "metadata": {},
   "source": [
    "## Positioning Mobjects"
   ]
  },
  {
   "cell_type": "code",
   "execution_count": null,
   "metadata": {},
   "outputs": [],
   "source": [
    "%%manim -qm CircleAndSquare\n",
    "\n",
    "class CircleAndSquare(Scene):\n",
    "    def construct(self):\n",
    "        pink_circle = Circle()\n",
    "        pink_circle.set_fill(PINK, opacity = 0.5)\n",
    "\n",
    "        blue_square = Square()\n",
    "        blue_square.set_fill(BLUE, opacity= 0.5)\n",
    "\n",
    "        blue_square.next_to(pink_circle, RIGHT, buff = 0.5)        \n",
    "        self.play(Create(pink_circle), Create(blue_square))\n",
    "        self.wait()"
   ]
  },
  {
   "cell_type": "markdown",
   "metadata": {},
   "source": [
    "## Animating"
   ]
  },
  {
   "cell_type": "code",
   "execution_count": null,
   "metadata": {},
   "outputs": [],
   "source": [
    "%%manim -qm CircleToSquare\n",
    "\n",
    "class AnimatedSquareToCircle(Scene):\n",
    "    def construct(self):\n",
    "        circle = Circle()  # create a circle\n",
    "        square = Square()  # create a square\n",
    "\n",
    "        self.play(Create(square))  # show the square on screen\n",
    "        self.play(square.animate.rotate(PI / 4))  # rotate the square\n",
    "        self.play(ReplacementTransform(square, circle))  # transform the square into a circle\n",
    "        self.play(circle.animate.set_fill(PINK, opacity = 0.5))  # color the circle on screen"
   ]
  },
  {
   "cell_type": "code",
   "execution_count": null,
   "metadata": {},
   "outputs": [],
   "source": [
    "%%manim -qm DifferentRotations\n",
    "\n",
    "class DifferentRotations(Scene):\n",
    "    def construct(self):\n",
    "        left_square = Square(color=BLUE, fill_opacity=0.7).shift(2 * LEFT)\n",
    "        right_square = Square(color=GREEN, fill_opacity=0.7).shift(2 * RIGHT)\n",
    "        self.play(\n",
    "            left_square.animate.rotate(PI), Rotate(right_square, angle=PI), run_time=2\n",
    "        )\n",
    "        self.wait()"
   ]
  },
  {
   "cell_type": "code",
   "execution_count": null,
   "metadata": {},
   "outputs": [],
   "source": [
    "%%manim -qm MovingCube\n",
    "\n",
    "class MovingCube(Scene):\n",
    "    def construct(self):\n",
    "        box = Rectangle(\n",
    "            stroke_color=GREEN_C,\n",
    "            stroke_opacity=0.7,\n",
    "            fill_color=RED_B,\n",
    "            fill_opacity=0.5,\n",
    "            height=1,\n",
    "            width=1,\n",
    "        )\n",
    "\n",
    "        self.add(box)\n",
    "        self.play(box.animate.shift(RIGHT * 2), run_time=2)\n",
    "        self.play(box.animate.shift(UP * 3), run_time=2)\n",
    "        self.play(box.animate.shift(DOWN * 5 + LEFT * 5), run_time=2)\n",
    "        self.play(box.animate.shift(UP * 1.5 + RIGHT * 1), run_time=2)"
   ]
  },
  {
   "cell_type": "markdown",
   "metadata": {},
   "source": [
    "## Typesetting Mathematics"
   ]
  },
  {
   "cell_type": "markdown",
   "metadata": {},
   "source": [
    "We can't learn a new programming technology without printing `Hello World`. "
   ]
  },
  {
   "cell_type": "code",
   "execution_count": null,
   "metadata": {},
   "outputs": [],
   "source": [
    "%%manim -qm Hello_World\n",
    "\n",
    "class Hello_World(Scene):\n",
    "    def construct(self):\n",
    "        sq = Square(\n",
    "            side_length=2,\n",
    "            color=BLUE, \n",
    "            fill_color=LIGHT_GRAY, \n",
    "            fill_opacity=0.5, \n",
    "            sheen_factor=0.1, \n",
    "            stroke_width= 30\n",
    "            ).to_edge(LEFT, buff= 0.5)\n",
    "        \n",
    "        Hello_World = Text(\"Hello World\")\n",
    "        Tri = Triangle().to_edge(RIGHT, buff= 0.5).scale(0.6)\n",
    "\n",
    "        self.play(Create(Tri), Write(sq), run_time = 2)\n",
    "        self.play(Write(Hello_World), run_time = 4)\n",
    "\n",
    "        self.wait()"
   ]
  },
  {
   "cell_type": "code",
   "execution_count": null,
   "metadata": {},
   "outputs": [],
   "source": [
    "%%manim -qm Formula\n",
    "\n",
    "class Formula(Scene):\n",
    "    def construct(self):\n",
    "        formula = MathTex(r\"\\mathbf{w}_{k+1} = \\mathbf{v}_{k+1} - \\sum_{j=1}^k \\mathrm{proj}_{\\mathbf{w}_j}(\\mathbf{v}_{k+1})\")\n",
    "        self.play(Write(formula), run_time = 3)\n",
    "        self.wait(2)"
   ]
  },
  {
   "cell_type": "code",
   "execution_count": 42,
   "metadata": {},
   "outputs": [
    {
     "name": "stderr",
     "output_type": "stream",
     "text": [
      "                                                                                          \r"
     ]
    },
    {
     "data": {
      "text/html": [
       "<video src=\"media/jupyter/TransformEquation@2023-07-22@23-39-20.mp4\" controls autoplay loop style=\"max-width: 75%;\"  >\n",
       "      Your browser does not support the <code>video</code> element.\n",
       "    </video>"
      ],
      "text/plain": [
       "<IPython.core.display.Video object>"
      ]
     },
     "metadata": {},
     "output_type": "display_data"
    }
   ],
   "source": [
    "%%manim -qm TransformEquation\n",
    "\n",
    "class TransformEquation(Scene):\n",
    "    def construct(self):\n",
    "        eq1 = MathTex(\"21 {{ a^2 }} + {{ b^2 }} = {{ c^2 }}\")\n",
    "        eq2 = MathTex(\"21 {{ a^2 }} = {{ c^2 }} - {{ b^2 }}\")\n",
    "        eq3 = MathTex(r\"a^2 = \\frac{c^2 - b^2}{21}\")\n",
    "        self.add(eq1)\n",
    "        self.wait()\n",
    "        self.play(TransformMatchingTex(eq1, eq2))\n",
    "        self.wait()\n",
    "        self.play(TransformMatchingShapes(eq2, eq3))\n",
    "        self.wait()\n",
    "        self.play(Create(SurroundingRectangle(eq3), buff=0.1))\n",
    "        self.wait()"
   ]
  },
  {
   "cell_type": "markdown",
   "metadata": {},
   "source": [
    "An interesting exercise could be to animate the derivation of a simple result such as the quadratic formula."
   ]
  },
  {
   "cell_type": "markdown",
   "metadata": {},
   "source": [
    "## Graphing"
   ]
  },
  {
   "cell_type": "code",
   "execution_count": 54,
   "metadata": {},
   "outputs": [
    {
     "name": "stderr",
     "output_type": "stream",
     "text": [
      "                                                                                                       \r"
     ]
    },
    {
     "data": {
      "text/html": [
       "<video src=\"media/jupyter/Plot@2023-07-22@23-52-56.mp4\" controls autoplay loop style=\"max-width: 75%;\"  >\n",
       "      Your browser does not support the <code>video</code> element.\n",
       "    </video>"
      ],
      "text/plain": [
       "<IPython.core.display.Video object>"
      ]
     },
     "metadata": {},
     "output_type": "display_data"
    }
   ],
   "source": [
    "## idk how i feel about this one - its a bit weird\n",
    "\n",
    "%%manim -qm Plot\n",
    "\n",
    "class Plot(Scene):\n",
    "    def construct(self):\n",
    "        axes = Axes(\n",
    "            x_range=[0, 5, 1],\n",
    "            y_range=[0, 3, 1],\n",
    "            x_length=5,\n",
    "            y_length=3,\n",
    "            axis_config={\"include_tip\": True, \"numbers_to_exclude\": [0]},\n",
    "        ).add_coordinates()\n",
    "        axis_labels = axes.get_axis_labels(x_label=\"x\", y_label=\"f(x)\")\n",
    "\n",
    "        graph = axes.plot(lambda x: x**2, x_range=[0, 4], color=YELLOW)\n",
    "        graphing_stuff = VGroup(axes, graph, axis_labels)\n",
    "\n",
    "        self.play(DrawBorderThenFill(axes), Write(axis_labels))\n",
    "        self.play(Create(graph))\n",
    "        self.play(graphing_stuff.animate.shift(DOWN * 4))\n"
   ]
  },
  {
   "cell_type": "code",
   "execution_count": 41,
   "metadata": {},
   "outputs": [
    {
     "data": {
      "image/png": "[encoded data removed]",
      "text/plain": [
       "<IPython.core.display.Image object>"
      ]
     },
     "metadata": {},
     "output_type": "display_data"
    }
   ],
   "source": [
    "%%manim -qm Axes\n",
    "\n",
    "class Axes(Scene):\n",
    "    def construct(self):\n",
    "        ax = NumberPlane()\n",
    "        \n",
    "        self.add(ax)"
   ]
  }
 ],
 "metadata": {
  "kernelspec": {
   "display_name": "Python 3",
   "language": "python",
   "name": "python3"
  },
  "language_info": {
   "codemirror_mode": {
    "name": "ipython",
    "version": 3
   },
   "file_extension": ".py",
   "mimetype": "text/x-python",
   "name": "python",
   "nbconvert_exporter": "python",
   "pygments_lexer": "ipython3",
   "version": "3.8.10"
  },
  "orig_nbformat": 4
 },
 "nbformat": 4,
 "nbformat_minor": 2
}
